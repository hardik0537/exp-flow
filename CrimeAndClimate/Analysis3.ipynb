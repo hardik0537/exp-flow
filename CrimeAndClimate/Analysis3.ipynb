{
 "cells": [
  {
   "cell_type": "code",
   "execution_count": 3,
   "metadata": {
    "collapsed": true
   },
   "outputs": [],
   "source": [
    "import pandas as pd\n",
    "import datetime\n",
    "import numpy \n",
    "import seaborn as sns\n",
    "%matplotlib inline"
   ]
  },
  {
   "cell_type": "code",
   "execution_count": 4,
   "metadata": {},
   "outputs": [
    {
     "name": "stdout",
     "output_type": "stream",
     "text": [
      "date                      object\n",
      "OFNS_DESC                 object\n",
      "avg(humidity)            float64\n",
      "avg(pressure)            float64\n",
      "avg(temperature)         float64\n",
      "avg(wind_direction)      float64\n",
      "avg(wind_speed)          float64\n",
      "avg(weather_desc_cat)    float64\n",
      "ofns_ids                 float64\n",
      "dtype: object\n"
     ]
    }
   ],
   "source": [
    "climate_crime = pd.read_csv('ProcessedData/ny_climate_crime.csv')\n",
    "print(climate_crime.dtypes)"
   ]
  },
  {
   "cell_type": "code",
   "execution_count": 5,
   "metadata": {},
   "outputs": [
    {
     "data": {
      "text/plain": [
       "<matplotlib.axes._subplots.AxesSubplot at 0x2a873bfe588>"
      ]
     },
     "execution_count": 5,
     "metadata": {},
     "output_type": "execute_result"
    },
    {
     "data": {
      "image/png": "[encoded data removed]",
      "text/plain": [
       "<matplotlib.figure.Figure at 0x2a873b53f28>"
      ]
     },
     "metadata": {},
     "output_type": "display_data"
    }
   ],
   "source": [
    "# Removing labeled dimensions\n",
    "climate_crime = climate_crime.drop('date', axis=1)\n",
    "climate_crime = climate_crime.drop('OFNS_DESC', axis=1)\n",
    "\n",
    "\n",
    "corr = climate_crime.corr()\n",
    "sns.heatmap(corr)"
   ]
  },
  {
   "cell_type": "markdown",
   "metadata": {},
   "source": [
    "The above graph makes it clear that the crime has very less relation with climatic conditions, if we consider covariance. Thus, we need to find another way to check if any relation exists."
   ]
  },
  {
   "cell_type": "code",
   "execution_count": 6,
   "metadata": {},
   "outputs": [
    {
     "name": "stdout",
     "output_type": "stream",
     "text": [
      "Features List: ['avg(humidity)' 'avg(pressure)' 'avg(temperature)' 'avg(wind_direction)'\n",
      " 'avg(wind_speed)' 'avg(weather_desc_cat)']\n",
      "Features sorted by their score:\n",
      "[(0.32450000000000001, 'avg(temperature)'), (0.2092, 'avg(pressure)'), (0.19520000000000001, 'avg(wind_direction)'), (0.14480000000000001, 'avg(wind_speed)'), (0.1197, 'avg(humidity)'), (0.0066, 'avg(weather_desc_cat)')]\n"
     ]
    }
   ],
   "source": [
    "import pandas as pd\n",
    "import datetime\n",
    "import numpy \n",
    "from sklearn.ensemble import RandomForestClassifier\n",
    "features_list = climate_crime.columns.values[0:6]\n",
    "print(\"Features List:\", features_list)\n",
    "X = climate_crime.values[:,0:6]\n",
    "#print(X)\n",
    "#set y equal to all Score values\n",
    "y = climate_crime.values[:,-1]\n",
    "#print(y)\n",
    "\n",
    "\n",
    "rf = RandomForestClassifier()\n",
    "rf.fit(X, y)\n",
    "print(\"Features sorted by their score:\")\n",
    "print(sorted(zip(map(lambda x: round(x, 4), rf.feature_importances_), features_list), \n",
    "             reverse=True))"
   ]
  },
  {
   "cell_type": "markdown",
   "metadata": {},
   "source": [
    "In the above aproach, we have calculated entropy of each leaf (feature) which would give us an idea if any of the features are related to the type of crime. The results are self explanatory. More information about entropy and information gain can be found in the below link."
   ]
  },
  {
   "cell_type": "markdown",
   "metadata": {},
   "source": [
    "http://dni-institute.in/blogs/decision-tree-entropy-and-information-gain/"
   ]
  },
  {
   "cell_type": "code",
   "execution_count": null,
   "metadata": {
    "collapsed": true
   },
   "outputs": [],
   "source": []
  },
  {
   "cell_type": "code",
   "execution_count": null,
   "metadata": {
    "collapsed": true
   },
   "outputs": [],
   "source": []
  },
  {
   "cell_type": "code",
   "execution_count": null,
   "metadata": {
    "collapsed": true
   },
   "outputs": [],
   "source": []
  },
  {
   "cell_type": "code",
   "execution_count": null,
   "metadata": {
    "collapsed": true
   },
   "outputs": [],
   "source": []
  },
  {
   "cell_type": "code",
   "execution_count": null,
   "metadata": {
    "collapsed": true
   },
   "outputs": [],
   "source": []
  }
 ],
 "metadata": {
  "kernelspec": {
   "display_name": "Python 3",
   "language": "python",
   "name": "python3"
  },
  "language_info": {
   "codemirror_mode": {
    "name": "ipython",
    "version": 3
   },
   "file_extension": ".py",
   "mimetype": "text/x-python",
   "name": "python",
   "nbconvert_exporter": "python",
   "pygments_lexer": "ipython3",
   "version": "3.6.1"
  }
 },
 "nbformat": 4,
 "nbformat_minor": 2
}
